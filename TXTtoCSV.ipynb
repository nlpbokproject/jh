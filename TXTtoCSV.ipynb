{
  "nbformat": 4,
  "nbformat_minor": 0,
  "metadata": {
    "colab": {
      "name": "TXTtoCSV.ipynb",
      "version": "0.3.2",
      "provenance": [],
      "include_colab_link": true
    },
    "kernelspec": {
      "name": "python3",
      "display_name": "Python 3"
    }
  },
  "cells": [
    {
      "cell_type": "markdown",
      "metadata": {
        "id": "view-in-github",
        "colab_type": "text"
      },
      "source": [
        "<a href=\"https://colab.research.google.com/github/nlpbokproject/NLP_BOK_Team/blob/master/TXTtoCSV.ipynb\" target=\"_parent\"><img src=\"https://colab.research.google.com/assets/colab-badge.svg\" alt=\"Open In Colab\"/></a>"
      ]
    },
    {
      "cell_type": "markdown",
      "metadata": {
        "id": "AmmcU30V4-HB",
        "colab_type": "text"
      },
      "source": [
        "# 모듈 import\n"
      ]
    },
    {
      "cell_type": "code",
      "metadata": {
        "id": "2s4Fz4qS48Tj",
        "colab_type": "code",
        "colab": {}
      },
      "source": [
        "import codecs\n",
        "from os import rename, listdir\n",
        "import glob"
      ],
      "execution_count": 0,
      "outputs": []
    },
    {
      "cell_type": "markdown",
      "metadata": {
        "id": "vpbh41M74_iC",
        "colab_type": "text"
      },
      "source": [
        "# 뉴스 파일 읽어오기\n"
      ]
    },
    {
      "cell_type": "code",
      "metadata": {
        "id": "DYCa5TXG48WB",
        "colab_type": "code",
        "colab": {}
      },
      "source": [
        "glob = glob.glob('./news/*.txt')\n",
        "glob"
      ],
      "execution_count": 0,
      "outputs": []
    },
    {
      "cell_type": "markdown",
      "metadata": {
        "id": "7k4MIcPP49dp",
        "colab_type": "text"
      },
      "source": [
        "# txt -> csv\n"
      ]
    },
    {
      "cell_type": "code",
      "metadata": {
        "id": "17qC2kri5Mvr",
        "colab_type": "code",
        "colab": {}
      },
      "source": [
        "for title in glob:\n",
        "    title_a = title.replace('\\\\', '/') \n",
        "    title_b = title_a.replace('.txt', '')\n",
        "    f = open(title_a, 'r' , encoding='utf8')\n",
        "    w = open(title_b + '_write.txt', 'w', encoding='utf8')\n",
        "    \n",
        "    s = f.read()\n",
        "    \n",
        "    s = s.replace(',', ' ')\n",
        "    s = s.replace('@@@', ',')\n",
        "    s = s.replace('\\n', ' ')\n",
        "    s = s.replace('===','\\n')\n",
        "    \n",
        "    w.write(s)\n",
        "    \n",
        "    \n",
        "    csv_name = title_b + '_write'\n",
        "    \n",
        "    w.close()\n",
        "    f.close()\n",
        "    rename(csv_name + '.txt', csv_name +'.csv')"
      ],
      "execution_count": 0,
      "outputs": []
    }
  ]
}