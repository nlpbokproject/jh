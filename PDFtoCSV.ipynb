{
  "nbformat": 4,
  "nbformat_minor": 0,
  "metadata": {
    "colab": {
      "name": "PDFtoCSV.ipynb",
      "version": "0.3.2",
      "provenance": [],
      "toc_visible": true,
      "include_colab_link": true
    },
    "kernelspec": {
      "name": "python3",
      "display_name": "Python 3"
    }
  },
  "cells": [
    {
      "cell_type": "markdown",
      "metadata": {
        "id": "view-in-github",
        "colab_type": "text"
      },
      "source": [
        "<a href=\"https://colab.research.google.com/github/nlpbokproject/NLP_BOK_Team/blob/master/PDFtoCSV.ipynb\" target=\"_parent\"><img src=\"https://colab.research.google.com/assets/colab-badge.svg\" alt=\"Open In Colab\"/></a>"
      ]
    },
    {
      "cell_type": "markdown",
      "metadata": {
        "id": "x-UZQmKx0on6",
        "colab_type": "text"
      },
      "source": [
        "# PDF -> CSV"
      ]
    },
    {
      "cell_type": "markdown",
      "metadata": {
        "id": "rKiOLrjg0ujq",
        "colab_type": "text"
      },
      "source": [
        "# import code"
      ]
    },
    {
      "cell_type": "code",
      "metadata": {
        "id": "-Lc0ypy-0msy",
        "colab_type": "code",
        "colab": {}
      },
      "source": [
        "from tika import parser\n",
        "from glob import glob\n",
        "import pandas as pd\n",
        "import sys \n",
        "from os import rename, listdir\n"
      ],
      "execution_count": 0,
      "outputs": []
    },
    {
      "cell_type": "markdown",
      "metadata": {
        "id": "vk-XdKAxNCbK",
        "colab_type": "text"
      },
      "source": [
        "# 회의록 이름 일괄변경\n"
      ]
    },
    {
      "cell_type": "code",
      "metadata": {
        "id": "uVno5ZA7NA2P",
        "colab_type": "code",
        "colab": {}
      },
      "source": [
        "files = listdir('./min')\n",
        "file_url = './min/'\n",
        "cnt = 0\n",
        "for f in files:\n",
        "    rename(file_url+f, file_url+str(cnt)+\".pdf\")\n",
        "    cnt+=1"
      ],
      "execution_count": 0,
      "outputs": []
    },
    {
      "cell_type": "markdown",
      "metadata": {
        "id": "XWt8d6iPNHw8",
        "colab_type": "text"
      },
      "source": [
        "# 기자간담회 이름 일괄변경"
      ]
    },
    {
      "cell_type": "code",
      "metadata": {
        "id": "O1dMCmXfNF6o",
        "colab_type": "code",
        "colab": {}
      },
      "source": [
        "files = listdir('./kija')\n",
        "file_url = './kija/'\n",
        "cnt = 0\n",
        "for f in files:\n",
        "    rename(file_url+f, file_url+str(cnt)+\".pdf\")\n",
        "    cnt+=1"
      ],
      "execution_count": 0,
      "outputs": []
    },
    {
      "cell_type": "markdown",
      "metadata": {
        "id": "4fOY7KrQ0lvS",
        "colab_type": "text"
      },
      "source": [
        "# 각 폴더의 모든 파일들의 이름을 각 변수에 저장"
      ]
    },
    {
      "cell_type": "code",
      "metadata": {
        "id": "kV8aFGrS0c7O",
        "colab_type": "code",
        "colab": {}
      },
      "source": [
        "kija = glob('kija/*.*')\n",
        "minu = glob('min/*.*')"
      ],
      "execution_count": 0,
      "outputs": []
    },
    {
      "cell_type": "markdown",
      "metadata": {
        "id": "nNw0SaHE08Qy",
        "colab_type": "text"
      },
      "source": [
        "# pdf 텍스트 추출 후 dataframe에 저장\n"
      ]
    },
    {
      "cell_type": "code",
      "metadata": {
        "id": "DrvFoKCX0c9j",
        "colab_type": "code",
        "colab": {}
      },
      "source": [
        "df = pd.DataFrame(columns=['idx','script'])\n",
        "cnt = 1\n",
        "for title in minu:\n",
        "    title = title.replace('\\\\','/') #파일들의 경계가 \\\\ 로 표현되어 에러 발생\n",
        "    raw = parser.from_file(title)\n",
        "    df = df.append(pd.DataFrame([[cnt, raw['content']]], columns=['idx','script']))"
      ],
      "execution_count": 0,
      "outputs": []
    },
    {
      "cell_type": "code",
      "metadata": {
        "id": "Np4QDE2G0j17",
        "colab_type": "code",
        "colab": {}
      },
      "source": [
        "df_kija = pd.DataFrame(columns=['idx','script'])\n",
        "cnt = 1\n",
        "for title in kija:\n",
        "    title = title.replace('\\\\','/') #파일들의 경계가 \\\\ 로 표현되어 에러 발생\n",
        "    raw = parser.from_file(title)\n",
        "    df_kija = df.append(pd.DataFrame([[cnt, raw['content']]], columns=['idx','script']))"
      ],
      "execution_count": 0,
      "outputs": []
    },
    {
      "cell_type": "markdown",
      "metadata": {
        "id": "UKQdRfM9Nfrf",
        "colab_type": "text"
      },
      "source": [
        "# 엑셀에 저장\n",
        "\n"
      ]
    },
    {
      "cell_type": "code",
      "metadata": {
        "id": "xEz5az2vNf-H",
        "colab_type": "code",
        "colab": {}
      },
      "source": [
        "df_min.to_csv('min.csv', sep=',', na_rep='NaN')\n",
        "df_kija.to_csv('kija.csv', sep=',', na_rep='NaN')"
      ],
      "execution_count": 0,
      "outputs": []
    }
  ]
}