{
  "nbformat": 4,
  "nbformat_minor": 0,
  "metadata": {
    "colab": {
      "name": "changeColumn.ipynb",
      "version": "0.3.2",
      "provenance": [],
      "include_colab_link": true
    },
    "kernelspec": {
      "name": "python3",
      "display_name": "Python 3"
    }
  },
  "cells": [
    {
      "cell_type": "markdown",
      "metadata": {
        "id": "view-in-github",
        "colab_type": "text"
      },
      "source": [
        "<a href=\"https://colab.research.google.com/github/nlpbokproject/NLP_BOK_Team/blob/master/changeColumn.ipynb\" target=\"_parent\"><img src=\"https://colab.research.google.com/assets/colab-badge.svg\" alt=\"Open In Colab\"/></a>"
      ]
    },
    {
      "cell_type": "code",
      "metadata": {
        "id": "Df6gAwDJ_loi",
        "colab_type": "code",
        "colab": {}
      },
      "source": [
        "from bs4 import BeautifulSoup, Comment\n",
        "from urllib.request import urlopen\n",
        "import pandas as pd\n",
        "from selenium import webdriver\n",
        "import time\n",
        "import re\n",
        "from selenium.webdriver.common.by import By\n",
        "from selenium.webdriver.support.ui import WebDriverWait\n",
        "from selenium.webdriver.support import expected_conditions as EC\n",
        "import requests"
      ],
      "execution_count": 0,
      "outputs": []
    },
    {
      "cell_type": "code",
      "metadata": {
        "id": "ftu-CFVw_p8d",
        "colab_type": "code",
        "colab": {}
      },
      "source": [
        "for i in range(1,13): \n",
        "    if i < 10:\n",
        "        df_1 = pd.read_csv('edaily_0'+str(i)+'.csv')\n",
        "    else:\n",
        "        df_1 = pd.read_csv('edaily_'+str(i)+'.csv')\n",
        "    columnList = [\"com\", \"date\",\"title\",  \"url\", \"script\"]\n",
        "    df_2 = df_1[columnList] \n",
        "    if i < 10:\n",
        "        df_2.to_csv('edaily_0'+str(i)+'.csv', encoding='UTF8')\n",
        "    else:\n",
        "        df_2.to_csv('edaily_'+str(i)+'.csv', encoding='UTF8')"
      ],
      "execution_count": 0,
      "outputs": []
    }
  ]
}