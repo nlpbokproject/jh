{
  "nbformat": 4,
  "nbformat_minor": 0,
  "metadata": {
    "colab": {
      "name": "Untitled4.ipynb",
      "version": "0.3.2",
      "provenance": [],
      "include_colab_link": true
    },
    "kernelspec": {
      "name": "python3",
      "display_name": "Python 3"
    }
  },
  "cells": [
    {
      "cell_type": "markdown",
      "metadata": {
        "id": "view-in-github",
        "colab_type": "text"
      },
      "source": [
        "<a href=\"https://colab.research.google.com/github/nlpbokproject/NLP_BOK_Team/blob/master/%EC%B1%84%EA%B6%8C%EB%B6%84%EC%84%9D%EB%B3%B4%EA%B3%A0%EC%84%9C%20%ED%81%AC%EB%A1%A4%EB%A7%81.ipynb\" target=\"_parent\"><img src=\"https://colab.research.google.com/assets/colab-badge.svg\" alt=\"Open In Colab\"/></a>"
      ]
    },
    {
      "cell_type": "code",
      "metadata": {
        "id": "Db79TQkMJ0V3",
        "colab_type": "code",
        "colab": {}
      },
      "source": [
        "from bs4 import BeautifulSoup, Comment\n",
        "from urllib.request import urlopen\n",
        "import pandas as pd\n",
        "from selenium import webdriver\n",
        "import time\n",
        "import re\n",
        "from selenium.webdriver.common.by import By\n",
        "from selenium.webdriver.support.ui import WebDriverWait\n",
        "from selenium.webdriver.support import expected_conditions as EC\n",
        "import requests"
      ],
      "execution_count": 0,
      "outputs": []
    },
    {
      "cell_type": "code",
      "metadata": {
        "id": "ttMbAs22J1jI",
        "colab_type": "code",
        "colab": {}
      },
      "source": [
        "#Start Webdriver\n",
        "driver = webdriver.Chrome(\"chromedriver.exe\")\n",
        "\n",
        "\n",
        "#103page까지 돌아가며 채권분석 보고서 가져옴\n",
        "for n in range (104): \n",
        "    base_url = 'https://finance.naver.com/research/debenture_list.nhn?keyword=&brokerCode=&searchType=writeDate&writeFromDate=2005-01-01&writeToDate=2017-12-31&x=42&y=16&page={}'\n",
        "    url = base_url.format(n+1)\n",
        "    driver.get(url)\n",
        "    idx = 0 \n",
        "   \n",
        "    #제목 정보 수집\n",
        "    tit_ls = driver.find_elements_by_xpath(\"\"\"//*[@id=\"contentarea_left\"]/div[3]/table[1]/tbody/tr/td[2]\"\"\")\n",
        "    #회사 이름\n",
        "    file_ls = driver.find_elements_by_xpath(\"\"\"//*[@id=\"contentarea_left\"]/div[3]/table[1]/tbody/tr/td[3]/a\"\"\")\n",
        "    #날짜 이름 수집\n",
        "    date_ls = driver.find_elements_by_xpath(\"\"\"//*[@id=\"contentarea_left\"]/div[3]/table[1]/tbody/tr/td[4]\"\"\")\n",
        "    \n",
        "    #파일 저장\n",
        "    for i in range(len(file_ls)):\n",
        "           \n",
        "        pdf_link = file_ls[i].get_attribute('href') #pdf파일 저장\n",
        "        cc = tit_ls[i].text #회사 이름\n",
        "        cd = date_ls[i].text #날짜\n",
        "        file = requests.get(pdf_link)\n",
        "        with open(str(idx) + '. '  + cc +'_' +  cd   +'.pdf', 'wb') as f:\n",
        "            f.write(file.content)\n",
        "            idx += 1"
      ],
      "execution_count": 0,
      "outputs": []
    }
  ]
}