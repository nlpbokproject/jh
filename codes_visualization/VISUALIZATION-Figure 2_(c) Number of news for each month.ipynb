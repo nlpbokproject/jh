{
 "cells": [
  {
   "cell_type": "code",
   "execution_count": 1,
   "metadata": {},
   "outputs": [],
   "source": [
    "import pandas as pd\n",
    "import numpy as np\n",
    "from pandas import DataFrame, Series\n",
    "import re"
   ]
  },
  {
   "cell_type": "markdown",
   "metadata": {},
   "source": [
    "## 2005-2016년까지 news 월별 데이터 카운팅\n"
   ]
  },
  {
   "cell_type": "code",
   "execution_count": 3,
   "metadata": {},
   "outputs": [
    {
     "name": "stdout",
     "output_type": "stream",
     "text": [
      "          date\n",
      "idx           \n",
      "22787  2005.12\n",
      "22788  2005.12\n",
      "22789  2005.12\n",
      "22790  2005.12\n",
      "22791  2005.12\n"
     ]
    },
    {
     "name": "stderr",
     "output_type": "stream",
     "text": [
      "C:\\ProgramData\\Anaconda3\\lib\\site-packages\\pandas\\core\\frame.py:6201: FutureWarning: Sorting because non-concatenation axis is not aligned. A future version\n",
      "of pandas will change to not sort by default.\n",
      "\n",
      "To accept the future behavior, pass 'sort=True'.\n",
      "\n",
      "To retain the current behavior and silence the warning, pass sort=False\n",
      "\n",
      "  sort=sort)\n"
     ]
    },
    {
     "name": "stdout",
     "output_type": "stream",
     "text": [
      "            date\n",
      "idx             \n",
      "29214.0  2006.12\n",
      "29215.0  2006.12\n",
      "29216.0  2006.12\n",
      "29217.0  2006.12\n",
      "29218.0  2006.12\n",
      "            date\n",
      "idx             \n",
      "25754.0  2007.12\n",
      "25755.0  2007.12\n",
      "25756.0  2007.12\n",
      "25757.0  2007.12\n",
      "25758.0  2007.12\n",
      "            date\n",
      "idx             \n",
      "27490.0  2008.12\n",
      "27491.0  2008.12\n",
      "27492.0  2008.12\n",
      "27493.0  2008.12\n",
      "27494.0  2008.12\n",
      "            date\n",
      "idx             \n",
      "19791.0  2009.12\n",
      "19792.0  2009.12\n",
      "19793.0  2009.12\n",
      "19794.0  2009.12\n",
      "19795.0  2009.12\n",
      "            date\n",
      "idx             \n",
      "21803.0  2010.12\n",
      "21804.0  2010.12\n",
      "21805.0  2010.12\n",
      "21806.0  2010.12\n",
      "21807.0  2010.12\n",
      "            date\n",
      "idx             \n",
      "16459.0  2011.12\n",
      "16460.0  2011.12\n",
      "16461.0  2011.12\n",
      "16462.0  2011.12\n",
      "16463.0  2011.12\n",
      "            date\n",
      "idx             \n",
      "18417.0  2012.12\n",
      "18418.0  2012.12\n",
      "18419.0  2012.12\n",
      "18420.0  2012.12\n",
      "18421.0  2012.12\n",
      "            date\n",
      "idx             \n",
      "20203.0  2013.12\n",
      "20204.0  2013.12\n",
      "20205.0  2013.12\n",
      "20206.0  2013.12\n",
      "20207.0  2013.12\n",
      "            date\n",
      "idx             \n",
      "22229.0  2014.12\n",
      "22230.0  2014.12\n",
      "22231.0  2014.12\n",
      "22232.0  2014.12\n",
      "22233.0  2014.12\n",
      "            date\n",
      "idx             \n",
      "30145.0  2015.12\n",
      "30146.0  2015.12\n",
      "30147.0  2015.12\n",
      "30148.0  2015.12\n",
      "30149.0  2015.12\n",
      "            date\n",
      "idx             \n",
      "30894.0  2016.12\n",
      "30895.0  2016.12\n",
      "30896.0  2016.12\n",
      "30897.0  2016.12\n",
      "30898.0  2016.12\n"
     ]
    }
   ],
   "source": [
    "count_news = []\n",
    "counts_all = []\n",
    "df = pd.DataFrame(columns=['idx', 'date'])\n",
    "\n",
    "\n",
    "for i in range(5,17):\n",
    "    if i < 10:\n",
    "        count_news = pd.read_csv(\"./final_data/news_processed(2005~2017)/news_200\"+str(i)+\"_preprocessed_n.csv\")\n",
    "#         counts_all = count_news.groupby(\"date\").size()\n",
    "\n",
    "        for j in range(count_news.shape[0]):\n",
    "        \n",
    "            A = count_news[\"date\"][j]\n",
    "            B = A[0:7]\n",
    "            \n",
    "            df = df.append(pd.DataFrame([[j, B]], columns=['idx', 'date']), ignore_index=True)\n",
    "        df.set_index('idx', inplace=True)\n",
    "        print(df.tail())\n",
    "        \n",
    "    else:\n",
    "        count_news = pd.read_csv(\"./final_data/news_processed(2005~2017)/news_20\"+str(i)+\"_preprocessed_n.csv\")\n",
    "        \n",
    "        for j in range(count_news.shape[0]):\n",
    "            A = count_news[\"date\"][j]\n",
    "            B = A[0:7]\n",
    "            df = df.append(pd.DataFrame([[j, B]], columns=['idx', 'date']), ignore_index=True)\n",
    "        df.set_index('idx', inplace=True)\n",
    "        print(df.tail())"
   ]
  },
  {
   "cell_type": "code",
   "execution_count": 4,
   "metadata": {},
   "outputs": [
    {
     "data": {
      "text/plain": [
       "date\n",
       "2005.01    1722\n",
       "2005.02    1548\n",
       "2005.03    1988\n",
       "2005.04    1583\n",
       "2005.05    1521\n",
       "2005.06    1809\n",
       "2005.07    1708\n",
       "2005.08    1866\n",
       "2005.09    2235\n",
       "2005.10    2416\n",
       "2005.11    2135\n",
       "2005.12    2261\n",
       "2006.01    2098\n",
       "2006.02    2179\n",
       "2006.03    2593\n",
       "2006.04    2239\n",
       "2006.05    2425\n",
       "2006.06    3149\n",
       "2006.07    2910\n",
       "2006.08    2837\n",
       "2006.09    2113\n",
       "2006.10    2026\n",
       "2006.11    2460\n",
       "2006.12    2190\n",
       "2007.01    2549\n",
       "2007.02    2101\n",
       "2007.03    1905\n",
       "2007.04    1604\n",
       "2007.05    1917\n",
       "2007.06    2270\n",
       "           ... \n",
       "2014.07    2122\n",
       "2014.08    2089\n",
       "2014.09    2120\n",
       "2014.10    2310\n",
       "2014.11    1907\n",
       "2014.12    2210\n",
       "2015.01    2221\n",
       "2015.02    1978\n",
       "2015.03    2564\n",
       "2015.04    2507\n",
       "2015.05    2473\n",
       "2015.06    3007\n",
       "2015.07    2376\n",
       "2015.08    2760\n",
       "2015.09    3197\n",
       "2015.10    2718\n",
       "2015.11    3008\n",
       "2015.12    1341\n",
       "2016.01    2807\n",
       "2016.02    2628\n",
       "2016.03    2801\n",
       "2016.04    2249\n",
       "2016.05    2322\n",
       "2016.06    2737\n",
       "2016.07    2114\n",
       "2016.08    2496\n",
       "2016.09    2591\n",
       "2016.10    2402\n",
       "2016.11    2648\n",
       "2016.12    3104\n",
       "Length: 142, dtype: int64"
      ]
     },
     "execution_count": 4,
     "metadata": {},
     "output_type": "execute_result"
    }
   ],
   "source": [
    "df_all = df.groupby(\"date\").size()\n",
    "df_all"
   ]
  },
  {
   "cell_type": "code",
   "execution_count": 7,
   "metadata": {},
   "outputs": [],
   "source": [
    "df_all.to_csv(\"../team3 project/final_data/new_all_count.csv\")"
   ]
  },
  {
   "cell_type": "markdown",
   "metadata": {},
   "source": [
    "## 2017년 뉴스 데이터 월별 카운팅 "
   ]
  },
  {
   "cell_type": "code",
   "execution_count": 48,
   "metadata": {},
   "outputs": [
    {
     "name": "stdout",
     "output_type": "stream",
     "text": [
      "   idx count\n",
      "0    1   704\n",
      "1    2   581\n",
      "2    3   861\n",
      "3    4  1484\n",
      "4    5   488\n",
      "5    6  1118\n",
      "6    7   564\n",
      "7    8   500\n",
      "8    9   494\n",
      "9   10   533\n",
      "10  11   557\n",
      "11  12   531\n"
     ]
    }
   ],
   "source": [
    "df = pd.DataFrame(columns=['idx', 'count'])\n",
    "\n",
    "for i in range(1,13):\n",
    "    if i < 10:\n",
    "        count_news = pd.read_csv(\"./final_data/news_processed(2005~2017)/news_pre(2017)/news_edaily/edaily_0\"+str(i)+\".csv\")\n",
    "        B = count_news.shape[0]\n",
    "        df = df.append(pd.DataFrame([[i, B]], columns=['idx', 'count']), ignore_index=True)\n",
    "    \n",
    "    \n",
    "    \n",
    "    if i>= 10:\n",
    "        count_news = pd.read_csv(\"./final_data/news_processed(2005~2017)/news_pre(2017)/news_edaily/edaily_\"+str(i)+\".csv\")\n",
    "        B = count_news.shape[0]\n",
    "        df = df.append(pd.DataFrame([[i, B]], columns=['idx', 'count']), ignore_index=True)\n",
    "\n",
    "print(df)        \n",
    "df.to_csv(\"./final_data/news_edaily_2017_count.csv\")   "
   ]
  },
  {
   "cell_type": "code",
   "execution_count": 49,
   "metadata": {},
   "outputs": [
    {
     "name": "stdout",
     "output_type": "stream",
     "text": [
      "   idx count\n",
      "0    1   588\n",
      "1    2   550\n",
      "2    3   743\n",
      "3    4   450\n",
      "4    5   373\n",
      "5    6   567\n",
      "6    7   488\n",
      "7    8   529\n",
      "8    9   419\n",
      "9   10   510\n",
      "10  11   518\n",
      "11  12   511\n"
     ]
    }
   ],
   "source": [
    "df = pd.DataFrame(columns=['idx', 'count'])\n",
    "\n",
    "for i in range(1,13):\n",
    "    if i < 10:\n",
    "        count_news = pd.read_csv(\"./final_data/news_processed(2005~2017)/news_pre(2017)/news_yeonhap/yeonhap_0\"+str(i)+\".csv\")\n",
    "        B = count_news.shape[0]\n",
    "        df = df.append(pd.DataFrame([[i, B]], columns=['idx', 'count']), ignore_index=True)\n",
    "    \n",
    "    \n",
    "    \n",
    "    if i>= 10:\n",
    "        count_news = pd.read_csv(\"./final_data/news_processed(2005~2017)/news_pre(2017)/news_yeonhap/yeonhap_\"+str(i)+\".csv\")\n",
    "        B = count_news.shape[0]\n",
    "        df = df.append(pd.DataFrame([[i, B]], columns=['idx', 'count']), ignore_index=True)\n",
    "\n",
    "print(df)        \n",
    "df.to_csv(\"./final_data/news_yeonhap_2017_count.csv\")   "
   ]
  },
  {
   "cell_type": "code",
   "execution_count": 50,
   "metadata": {},
   "outputs": [
    {
     "name": "stdout",
     "output_type": "stream",
     "text": [
      "   idx count\n",
      "0    1  1085\n",
      "1    2  1161\n",
      "2    3  1434\n",
      "3    4   927\n",
      "4    5   988\n",
      "5    6  1188\n",
      "6    7  1280\n",
      "7    8  1101\n",
      "8    9  1259\n",
      "9   10  1045\n",
      "10  11  1186\n",
      "11  12  1079\n"
     ]
    }
   ],
   "source": [
    "df = pd.DataFrame(columns=['idx', 'count'])\n",
    "\n",
    "for i in range(1,13):\n",
    "    if i < 10:\n",
    "        count_news = pd.read_csv(\"./final_data/news_processed(2005~2017)/news_pre(2017)/news_Yeonhap_info/yeonhap_info_0\"+str(i)+\".csv\")\n",
    "        B = count_news.shape[0]\n",
    "        df = df.append(pd.DataFrame([[i, B]], columns=['idx', 'count']), ignore_index=True)\n",
    "    \n",
    "    \n",
    "    \n",
    "    if i>= 10:\n",
    "        count_news = pd.read_csv(\"./final_data/news_processed(2005~2017)/news_pre(2017)/news_Yeonhap_info/yeonhap_info_\"+str(i)+\".csv\")\n",
    "        B = count_news.shape[0]\n",
    "        df = df.append(pd.DataFrame([[i, B]], columns=['idx', 'count']), ignore_index=True)\n",
    "\n",
    "print(df)        \n",
    "df.to_csv(\"./final_data/news_yeonhapinfo_2017_count.csv\")   "
   ]
  },
  {
   "cell_type": "code",
   "execution_count": null,
   "metadata": {},
   "outputs": [],
   "source": []
  }
 ],
 "metadata": {
  "kernelspec": {
   "display_name": "Python 3",
   "language": "python",
   "name": "python3"
  },
  "language_info": {
   "codemirror_mode": {
    "name": "ipython",
    "version": 3
   },
   "file_extension": ".py",
   "mimetype": "text/x-python",
   "name": "python",
   "nbconvert_exporter": "python",
   "pygments_lexer": "ipython3",
   "version": "3.6.5"
  }
 },
 "nbformat": 4,
 "nbformat_minor": 2
}
